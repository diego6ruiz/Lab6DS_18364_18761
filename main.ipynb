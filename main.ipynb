{
 "cells": [
  {
   "cell_type": "code",
   "execution_count": 11,
   "metadata": {},
   "outputs": [],
   "source": [
    "import tweepy\n",
    "from dotenv import load_dotenv\n",
    "import os\n",
    "\n",
    "if not load_dotenv():\n",
    "    print(\"Error al cargar el archivo .env.\")\n",
    "    exit()\n",
    "\n",
    "API_KEY = os.environ.get('TWITTER_API_KEY')\n",
    "API_SECRET = os.environ.get('TWITTER_API_SECRET')\n",
    "ACCESS_TOKEN = os.environ.get('TWITTER_ACCESS_TOKEN')\n",
    "ACCESS_TOKEN_SECRET = os.environ.get('TWITTER_ACCESS_TOKEN_SECRET')\n",
    "\n",
    "# Autenticarse en Twitter\n",
    "auth = tweepy.OAuthHandler(API_KEY, API_SECRET)\n",
    "auth.set_access_token(ACCESS_TOKEN, ACCESS_TOKEN_SECRET)\n",
    "api = tweepy.API(auth)\n",
    "\n",
    "# Función para cargar tweets\n",
    "def fetch_tweets(query, count=100):\n",
    "    return tweepy.Cursor(api.search, q=query, tweet_mode='extended', lang='es').items(count)"
   ]
  },
  {
   "cell_type": "code",
   "execution_count": 12,
   "metadata": {},
   "outputs": [
    {
     "name": "stdout",
     "output_type": "stream",
     "text": [
      "Conexión exitosa!\n"
     ]
    }
   ],
   "source": [
    "def test_connection():\n",
    "    try:\n",
    "        api.verify_credentials()  # Esto intentará verificar tus credenciales\n",
    "        print(\"Conexión exitosa!\")\n",
    "    except tweepy.error.TweepError as e:\n",
    "        print(\"Fallo en la conexión. Razón:\", e.reason)\n",
    "\n",
    "# Prueba la conexión\n",
    "test_connection()"
   ]
  }
 ],
 "metadata": {
  "kernelspec": {
   "display_name": "Python 3",
   "language": "python",
   "name": "python3"
  },
  "language_info": {
   "codemirror_mode": {
    "name": "ipython",
    "version": 3
   },
   "file_extension": ".py",
   "mimetype": "text/x-python",
   "name": "python",
   "nbconvert_exporter": "python",
   "pygments_lexer": "ipython3",
   "version": "3.11.5"
  },
  "orig_nbformat": 4
 },
 "nbformat": 4,
 "nbformat_minor": 2
}
